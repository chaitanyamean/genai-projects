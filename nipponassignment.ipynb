{
  "cells": [
    {
      "cell_type": "code",
      "execution_count": null,
      "metadata": {
        "colab": {
          "base_uri": "https://localhost:8080/"
        },
        "id": "FfMNEdrSjW1w",
        "outputId": "82a311c2-839f-4554-f296-0a93d4bfdfac"
      },
      "outputs": [
        {
          "name": "stdout",
          "output_type": "stream",
          "text": [
            "Collecting langchain\n",
            "  Downloading langchain-0.1.14-py3-none-any.whl (812 kB)\n",
            "\u001b[2K     \u001b[90m━━━━━━━━━━━━━━━━━━━━━━━━━━━━━━━━━━━━━━━━\u001b[0m \u001b[32m812.8/812.8 kB\u001b[0m \u001b[31m5.7 MB/s\u001b[0m eta \u001b[36m0:00:00\u001b[0m\n",
            "\u001b[?25hRequirement already satisfied: PyYAML>=5.3 in /usr/local/lib/python3.10/dist-packages (from langchain) (6.0.1)\n",
            "Requirement already satisfied: SQLAlchemy<3,>=1.4 in /usr/local/lib/python3.10/dist-packages (from langchain) (2.0.29)\n",
            "Requirement already satisfied: aiohttp<4.0.0,>=3.8.3 in /usr/local/lib/python3.10/dist-packages (from langchain) (3.9.3)\n",
            "Requirement already satisfied: async-timeout<5.0.0,>=4.0.0 in /usr/local/lib/python3.10/dist-packages (from langchain) (4.0.3)\n",
            "Collecting dataclasses-json<0.7,>=0.5.7 (from langchain)\n",
            "  Downloading dataclasses_json-0.6.4-py3-none-any.whl (28 kB)\n",
            "Collecting jsonpatch<2.0,>=1.33 (from langchain)\n",
            "  Downloading jsonpatch-1.33-py2.py3-none-any.whl (12 kB)\n",
            "Collecting langchain-community<0.1,>=0.0.30 (from langchain)\n",
            "  Downloading langchain_community-0.0.31-py3-none-any.whl (1.9 MB)\n",
            "\u001b[2K     \u001b[90m━━━━━━━━━━━━━━━━━━━━━━━━━━━━━━━━━━━━━━━━\u001b[0m \u001b[32m1.9/1.9 MB\u001b[0m \u001b[31m12.8 MB/s\u001b[0m eta \u001b[36m0:00:00\u001b[0m\n",
            "\u001b[?25hCollecting langchain-core<0.2.0,>=0.1.37 (from langchain)\n",
            "  Downloading langchain_core-0.1.40-py3-none-any.whl (276 kB)\n",
            "\u001b[2K     \u001b[90m━━━━━━━━━━━━━━━━━━━━━━━━━━━━━━━━━━━━━━━━\u001b[0m \u001b[32m276.8/276.8 kB\u001b[0m \u001b[31m9.7 MB/s\u001b[0m eta \u001b[36m0:00:00\u001b[0m\n",
            "\u001b[?25hCollecting langchain-text-splitters<0.1,>=0.0.1 (from langchain)\n",
            "  Downloading langchain_text_splitters-0.0.1-py3-none-any.whl (21 kB)\n",
            "Collecting langsmith<0.2.0,>=0.1.17 (from langchain)\n",
            "  Downloading langsmith-0.1.40-py3-none-any.whl (87 kB)\n",
            "\u001b[2K     \u001b[90m━━━━━━━━━━━━━━━━━━━━━━━━━━━━━━━━━━━━━━━━\u001b[0m \u001b[32m87.5/87.5 kB\u001b[0m \u001b[31m7.7 MB/s\u001b[0m eta \u001b[36m0:00:00\u001b[0m\n",
            "\u001b[?25hRequirement already satisfied: numpy<2,>=1 in /usr/local/lib/python3.10/dist-packages (from langchain) (1.25.2)\n",
            "Requirement already satisfied: pydantic<3,>=1 in /usr/local/lib/python3.10/dist-packages (from langchain) (2.6.4)\n",
            "Requirement already satisfied: requests<3,>=2 in /usr/local/lib/python3.10/dist-packages (from langchain) (2.31.0)\n",
            "Requirement already satisfied: tenacity<9.0.0,>=8.1.0 in /usr/local/lib/python3.10/dist-packages (from langchain) (8.2.3)\n",
            "Requirement already satisfied: aiosignal>=1.1.2 in /usr/local/lib/python3.10/dist-packages (from aiohttp<4.0.0,>=3.8.3->langchain) (1.3.1)\n",
            "Requirement already satisfied: attrs>=17.3.0 in /usr/local/lib/python3.10/dist-packages (from aiohttp<4.0.0,>=3.8.3->langchain) (23.2.0)\n",
            "Requirement already satisfied: frozenlist>=1.1.1 in /usr/local/lib/python3.10/dist-packages (from aiohttp<4.0.0,>=3.8.3->langchain) (1.4.1)\n",
            "Requirement already satisfied: multidict<7.0,>=4.5 in /usr/local/lib/python3.10/dist-packages (from aiohttp<4.0.0,>=3.8.3->langchain) (6.0.5)\n",
            "Requirement already satisfied: yarl<2.0,>=1.0 in /usr/local/lib/python3.10/dist-packages (from aiohttp<4.0.0,>=3.8.3->langchain) (1.9.4)\n",
            "Collecting marshmallow<4.0.0,>=3.18.0 (from dataclasses-json<0.7,>=0.5.7->langchain)\n",
            "  Downloading marshmallow-3.21.1-py3-none-any.whl (49 kB)\n",
            "\u001b[2K     \u001b[90m━━━━━━━━━━━━━━━━━━━━━━━━━━━━━━━━━━━━━━━━\u001b[0m \u001b[32m49.4/49.4 kB\u001b[0m \u001b[31m4.0 MB/s\u001b[0m eta \u001b[36m0:00:00\u001b[0m\n",
            "\u001b[?25hCollecting typing-inspect<1,>=0.4.0 (from dataclasses-json<0.7,>=0.5.7->langchain)\n",
            "  Downloading typing_inspect-0.9.0-py3-none-any.whl (8.8 kB)\n",
            "Collecting jsonpointer>=1.9 (from jsonpatch<2.0,>=1.33->langchain)\n",
            "  Downloading jsonpointer-2.4-py2.py3-none-any.whl (7.8 kB)\n",
            "Collecting packaging<24.0,>=23.2 (from langchain-core<0.2.0,>=0.1.37->langchain)\n",
            "  Downloading packaging-23.2-py3-none-any.whl (53 kB)\n",
            "\u001b[2K     \u001b[90m━━━━━━━━━━━━━━━━━━━━━━━━━━━━━━━━━━━━━━━━\u001b[0m \u001b[32m53.0/53.0 kB\u001b[0m \u001b[31m5.0 MB/s\u001b[0m eta \u001b[36m0:00:00\u001b[0m\n",
            "\u001b[?25hCollecting orjson<4.0.0,>=3.9.14 (from langsmith<0.2.0,>=0.1.17->langchain)\n",
            "  Downloading orjson-3.10.0-cp310-cp310-manylinux_2_17_x86_64.manylinux2014_x86_64.whl (144 kB)\n",
            "\u001b[2K     \u001b[90m━━━━━━━━━━━━━━━━━━━━━━━━━━━━━━━━━━━━━━━━\u001b[0m \u001b[32m144.8/144.8 kB\u001b[0m \u001b[31m5.9 MB/s\u001b[0m eta \u001b[36m0:00:00\u001b[0m\n",
            "\u001b[?25hRequirement already satisfied: annotated-types>=0.4.0 in /usr/local/lib/python3.10/dist-packages (from pydantic<3,>=1->langchain) (0.6.0)\n",
            "Requirement already satisfied: pydantic-core==2.16.3 in /usr/local/lib/python3.10/dist-packages (from pydantic<3,>=1->langchain) (2.16.3)\n",
            "Requirement already satisfied: typing-extensions>=4.6.1 in /usr/local/lib/python3.10/dist-packages (from pydantic<3,>=1->langchain) (4.10.0)\n",
            "Requirement already satisfied: charset-normalizer<4,>=2 in /usr/local/lib/python3.10/dist-packages (from requests<3,>=2->langchain) (3.3.2)\n",
            "Requirement already satisfied: idna<4,>=2.5 in /usr/local/lib/python3.10/dist-packages (from requests<3,>=2->langchain) (3.6)\n",
            "Requirement already satisfied: urllib3<3,>=1.21.1 in /usr/local/lib/python3.10/dist-packages (from requests<3,>=2->langchain) (2.0.7)\n",
            "Requirement already satisfied: certifi>=2017.4.17 in /usr/local/lib/python3.10/dist-packages (from requests<3,>=2->langchain) (2024.2.2)\n",
            "Requirement already satisfied: greenlet!=0.4.17 in /usr/local/lib/python3.10/dist-packages (from SQLAlchemy<3,>=1.4->langchain) (3.0.3)\n",
            "Collecting mypy-extensions>=0.3.0 (from typing-inspect<1,>=0.4.0->dataclasses-json<0.7,>=0.5.7->langchain)\n",
            "  Downloading mypy_extensions-1.0.0-py3-none-any.whl (4.7 kB)\n",
            "Installing collected packages: packaging, orjson, mypy-extensions, jsonpointer, typing-inspect, marshmallow, jsonpatch, langsmith, dataclasses-json, langchain-core, langchain-text-splitters, langchain-community, langchain\n",
            "  Attempting uninstall: packaging\n",
            "    Found existing installation: packaging 24.0\n",
            "    Uninstalling packaging-24.0:\n",
            "      Successfully uninstalled packaging-24.0\n",
            "Successfully installed dataclasses-json-0.6.4 jsonpatch-1.33 jsonpointer-2.4 langchain-0.1.14 langchain-community-0.0.31 langchain-core-0.1.40 langchain-text-splitters-0.0.1 langsmith-0.1.40 marshmallow-3.21.1 mypy-extensions-1.0.0 orjson-3.10.0 packaging-23.2 typing-inspect-0.9.0\n",
            "Collecting openai\n",
            "  Downloading openai-1.16.2-py3-none-any.whl (267 kB)\n",
            "\u001b[2K     \u001b[90m━━━━━━━━━━━━━━━━━━━━━━━━━━━━━━━━━━━━━━━━\u001b[0m \u001b[32m267.1/267.1 kB\u001b[0m \u001b[31m5.4 MB/s\u001b[0m eta \u001b[36m0:00:00\u001b[0m\n",
            "\u001b[?25hRequirement already satisfied: anyio<5,>=3.5.0 in /usr/local/lib/python3.10/dist-packages (from openai) (3.7.1)\n",
            "Requirement already satisfied: distro<2,>=1.7.0 in /usr/lib/python3/dist-packages (from openai) (1.7.0)\n",
            "Collecting httpx<1,>=0.23.0 (from openai)\n",
            "  Downloading httpx-0.27.0-py3-none-any.whl (75 kB)\n",
            "\u001b[2K     \u001b[90m━━━━━━━━━━━━━━━━━━━━━━━━━━━━━━━━━━━━━━━━\u001b[0m \u001b[32m75.6/75.6 kB\u001b[0m \u001b[31m9.9 MB/s\u001b[0m eta \u001b[36m0:00:00\u001b[0m\n",
            "\u001b[?25hRequirement already satisfied: pydantic<3,>=1.9.0 in /usr/local/lib/python3.10/dist-packages (from openai) (2.6.4)\n",
            "Requirement already satisfied: sniffio in /usr/local/lib/python3.10/dist-packages (from openai) (1.3.1)\n",
            "Requirement already satisfied: tqdm>4 in /usr/local/lib/python3.10/dist-packages (from openai) (4.66.2)\n",
            "Requirement already satisfied: typing-extensions<5,>=4.7 in /usr/local/lib/python3.10/dist-packages (from openai) (4.10.0)\n",
            "Requirement already satisfied: idna>=2.8 in /usr/local/lib/python3.10/dist-packages (from anyio<5,>=3.5.0->openai) (3.6)\n",
            "Requirement already satisfied: exceptiongroup in /usr/local/lib/python3.10/dist-packages (from anyio<5,>=3.5.0->openai) (1.2.0)\n",
            "Requirement already satisfied: certifi in /usr/local/lib/python3.10/dist-packages (from httpx<1,>=0.23.0->openai) (2024.2.2)\n",
            "Collecting httpcore==1.* (from httpx<1,>=0.23.0->openai)\n",
            "  Downloading httpcore-1.0.5-py3-none-any.whl (77 kB)\n",
            "\u001b[2K     \u001b[90m━━━━━━━━━━━━━━━━━━━━━━━━━━━━━━━━━━━━━━━━\u001b[0m \u001b[32m77.9/77.9 kB\u001b[0m \u001b[31m1.8 MB/s\u001b[0m eta \u001b[36m0:00:00\u001b[0m\n",
            "\u001b[?25hCollecting h11<0.15,>=0.13 (from httpcore==1.*->httpx<1,>=0.23.0->openai)\n",
            "  Downloading h11-0.14.0-py3-none-any.whl (58 kB)\n",
            "\u001b[2K     \u001b[90m━━━━━━━━━━━━━━━━━━━━━━━━━━━━━━━━━━━━━━━━\u001b[0m \u001b[32m58.3/58.3 kB\u001b[0m \u001b[31m7.6 MB/s\u001b[0m eta \u001b[36m0:00:00\u001b[0m\n",
            "\u001b[?25hRequirement already satisfied: annotated-types>=0.4.0 in /usr/local/lib/python3.10/dist-packages (from pydantic<3,>=1.9.0->openai) (0.6.0)\n",
            "Requirement already satisfied: pydantic-core==2.16.3 in /usr/local/lib/python3.10/dist-packages (from pydantic<3,>=1.9.0->openai) (2.16.3)\n",
            "Installing collected packages: h11, httpcore, httpx, openai\n",
            "Successfully installed h11-0.14.0 httpcore-1.0.5 httpx-0.27.0 openai-1.16.2\n",
            "Collecting PyPDF2\n",
            "  Downloading pypdf2-3.0.1-py3-none-any.whl (232 kB)\n",
            "\u001b[2K     \u001b[90m━━━━━━━━━━━━━━━━━━━━━━━━━━━━━━━━━━━━━━━━\u001b[0m \u001b[32m232.6/232.6 kB\u001b[0m \u001b[31m4.7 MB/s\u001b[0m eta \u001b[36m0:00:00\u001b[0m\n",
            "\u001b[?25hInstalling collected packages: PyPDF2\n",
            "Successfully installed PyPDF2-3.0.1\n",
            "Collecting faiss-cpu\n",
            "  Downloading faiss_cpu-1.8.0-cp310-cp310-manylinux_2_17_x86_64.manylinux2014_x86_64.whl (27.0 MB)\n",
            "\u001b[2K     \u001b[90m━━━━━━━━━━━━━━━━━━━━━━━━━━━━━━━━━━━━━━━━\u001b[0m \u001b[32m27.0/27.0 MB\u001b[0m \u001b[31m33.4 MB/s\u001b[0m eta \u001b[36m0:00:00\u001b[0m\n",
            "\u001b[?25hRequirement already satisfied: numpy in /usr/local/lib/python3.10/dist-packages (from faiss-cpu) (1.25.2)\n",
            "Installing collected packages: faiss-cpu\n",
            "Successfully installed faiss-cpu-1.8.0\n",
            "Collecting tiktoken\n",
            "  Downloading tiktoken-0.6.0-cp310-cp310-manylinux_2_17_x86_64.manylinux2014_x86_64.whl (1.8 MB)\n",
            "\u001b[2K     \u001b[90m━━━━━━━━━━━━━━━━━━━━━━━━━━━━━━━━━━━━━━━━\u001b[0m \u001b[32m1.8/1.8 MB\u001b[0m \u001b[31m10.1 MB/s\u001b[0m eta \u001b[36m0:00:00\u001b[0m\n",
            "\u001b[?25hRequirement already satisfied: regex>=2022.1.18 in /usr/local/lib/python3.10/dist-packages (from tiktoken) (2023.12.25)\n",
            "Requirement already satisfied: requests>=2.26.0 in /usr/local/lib/python3.10/dist-packages (from tiktoken) (2.31.0)\n",
            "Requirement already satisfied: charset-normalizer<4,>=2 in /usr/local/lib/python3.10/dist-packages (from requests>=2.26.0->tiktoken) (3.3.2)\n",
            "Requirement already satisfied: idna<4,>=2.5 in /usr/local/lib/python3.10/dist-packages (from requests>=2.26.0->tiktoken) (3.6)\n",
            "Requirement already satisfied: urllib3<3,>=1.21.1 in /usr/local/lib/python3.10/dist-packages (from requests>=2.26.0->tiktoken) (2.0.7)\n",
            "Requirement already satisfied: certifi>=2017.4.17 in /usr/local/lib/python3.10/dist-packages (from requests>=2.26.0->tiktoken) (2024.2.2)\n",
            "Installing collected packages: tiktoken\n",
            "Successfully installed tiktoken-0.6.0\n"
          ]
        }
      ],
      "source": [
        "!pip install langchain\n",
        "!pip install openai\n",
        "!pip install PyPDF2\n",
        "!pip install faiss-cpu\n",
        "!pip install tiktoken"
      ]
    },
    {
      "cell_type": "code",
      "execution_count": null,
      "metadata": {
        "id": "PQvco90kj1DS"
      },
      "outputs": [],
      "source": [
        "from PyPDF2 import PdfReader\n",
        "from langchain.embeddings.openai import OpenAIEmbeddings\n",
        "from langchain.text_splitter import CharacterTextSplitter\n",
        "from langchain.vectorstores import FAISS"
      ]
    },
    {
      "cell_type": "code",
      "execution_count": null,
      "metadata": {
        "id": "LdLX-cyAj-bL"
      },
      "outputs": [],
      "source": [
        "import os\n",
        "os.environ[\"OPENAI_API_KEY\"] = \"\""
      ]
    },
    {
      "cell_type": "code",
      "execution_count": null,
      "metadata": {
        "id": "S_UbunzdkwnV"
      },
      "outputs": [],
      "source": [
        "pdfreader = PdfReader('nippon.pdf')"
      ]
    },
    {
      "cell_type": "code",
      "execution_count": null,
      "metadata": {
        "id": "l8TOFLczkwxi"
      },
      "outputs": [],
      "source": [
        "from typing_extensions import Concatenate\n",
        "# read text from pdf\n",
        "raw_text = ''\n",
        "for i, page in enumerate(pdfreader.pages):\n",
        "    content = page.extract_text()\n",
        "    if content:\n",
        "        raw_text += content"
      ]
    },
    {
      "cell_type": "code",
      "execution_count": null,
      "metadata": {
        "colab": {
          "base_uri": "https://localhost:8080/",
          "height": 143
        },
        "id": "q565Dksykw5i",
        "outputId": "80a42fb8-0620-4769-eb3f-d647e60b1502"
      },
      "outputs": [
        {
          "data": {
            "application/vnd.google.colaboratory.intrinsic+json": {
              "type": "string"
            },
            "text/plain": [
              "'Investment Horizon: 1 - 3 years\\nContact your Mutual Fund Distributor  |  Call 1860 266 0111#, \\n91-22-6925 9696# (For investors outside India)  |\\nVisit mf.nipponindiaim.com\\n#Charges applicable.Nippon India \\nShort Term Fund\\n(An open  ended  short  term  debt  scheme  investing  in \\ninstruments  such  that  the Macaulay  duration  of the \\nportfolio  is between  1 to 3 years . Relatively  High  interest  \\nrate  risk and moderate  Credit  Risk)\\nMutual Fund investments are subject to market risks, read all scheme related documents carefully.This product is suitable for investors who are seeking*\\n•Income over short term\\n•Investment in debt & money market instruments with \\nportfolio Macaulay Duration between 1 -3 years\\n*Investors should consult their financial advisors \\nif in doubt about  whether the product is suitable \\nfor them.Benchmark RiskometerNippon India Short Term \\nFundCRISIL Short Duration Debt \\nB-II Index\\nInvestors understand that their principal  \\nwill be at Moderate riskBenchmark Riskometer is at \\nModerate riskProduct label Potential Risk Class\\nAbout Nippon India Short Term Fund\\nThe primary investment objective of the scheme is to generate stable re - \\nturns for investors with a short term investment horizon by investing in \\nDebt & Money Market Instruments.\\nCurrent Investment Strategy\\n❖The fund  Investments  would  predominantly  be into corporate  bonds,  \\nG-Secs  and money  market  instruments  predominantly  into 1 - 5 years  \\nduration  bucket\\n❖Strategy  is to enhance  returns  through  asset  allocation  and shape  of \\nthe yield  curve\\n❖Better  credit  quality  assets  (75-85% AAA) ; 70-100% in upto  3 years  \\nassets  and 0-30% in 3 to 5 years  assets,  15-20% tactical  allocation  to G-\\nSecs/SDLs  based  on absolute  yield  and spread  views\\n❖The fund  would  run moderate  duration  strategy,  which  would  be \\nmaintained  in the range  of 1.25 years  to 2.75 years\\nNote : Above  mentioned  current  investment  strategy  is based  on the prevailing  market  \\nconditions  and is subject  to change  within  the limits  of the SID basis  the fund  manager’s  \\nview .\\nWho should invest?\\n❖Investors  seeking  accrual  return  with  the potential  for moderate  capital  \\ngains  along  with  downward  curve  shift  and steepness  would  aid \\nrelatively  better  returns\\n❖Investors  seeking  protection  in rising  yields  scenario  due to roll down  \\nbenefit  and high  absolute  yields\\n❖Ideal  for Investors  with  moderate  appetite  for volatility  and investment  \\nhorizon  of around  1 - 3 years\\nInception Date\\nFund Manager#December 18, 2002\\nSushil Budhia , Vivek Sharma\\nMinimum Application \\nAmount\\nBenchmarkRs. 5,000 & in multiples of R e.1 thereafter\\nCRISIL Short Duration B -II Index\\nMonth end AUM as on \\nJanuary 31, 202 4 Rs. 5, 967.53 Crs\\nPlans & Options\\nExit Load**\\n(** If charged,  the same  shall  \\nbe credited  to the scheme  \\nimmediately  net of goods  & \\nservice  tax, if any)i)Growth  Plan/Direct  Plan  - Growth  Plan :\\nGrowth Option\\nii)a) IDCW  Plan/  Direct  Plan  - IDCW  Plan\\n- IDCW  Option\\nb) IDCW  Plan/  Direct  Plan  - IDCW  Plan  \\nwith  the frequency  of Monthly,  \\nQuarterly)\\nBoth the above mentioned IDCW \\nplan/ Direct Plan - IDCW Plan offers \\nPayout of IDCW and Reinvestment \\nof IDCW facility.\\nNil\\n#Kinjal Desai : Dedicated Fund Manager for Overseas Investments\\nNote - IDCW: Income Distribution cum capital withdrawal Options/Plans.\\nRating Profile as on  January 31, 202 4\\nThe emphasis  of the fund  is to invest  predominantly  into high  rated  AAA  \\nand equivalent  securities  which  aims  to generate  a healthy  risk return  \\nratio .\\nAsset Allocation as on  January 31, 202 4Scheme Attributes as on  January 31, 202 4\\nWeighted Average YTM * 7.85%\\nWeighted Average Maturity 3.47 Years\\nModified Duration 2.69 Years\\nPortfolio as on  January 31, 202 4\\nCompany/Issuer Rating% of \\nAssets\\nCertificate of Deposit 1.56%\\nAxis Bank Limited CRISIL A1+ 1.56%\\nCommercial Paper 0.82%\\nHDFC Bank Limited CRISIL A1+ 0.82%\\nCorporate Bond 57.43%\\nREC Limited CRISIL AAA 6.83%\\nSmall Industries Dev Ban k of IndiaICRA \\nAAA/CRISIL \\nAAA5.21%\\nNational Bank For Agricu lture and Rural \\nDevelopmentCRISIL \\nAAA/ICRA \\nAAA5.02%\\nPower Finance Corporatio n Limited CRISIL AAA 3.91%\\nBharti Telecom Limited CRISIL AA+ 3.55%\\nMuthoot Finance Limited CRISIL AA+ 3.35%\\nHDFC Bank Limited CRISIL AAA 3.04%\\nLIC Housing Finance Limi ted CRISIL AAA 2.92%\\nIndia Grid Trust InvIT F und (India Grid Trust \\nGroup)CRISIL AAA 2.65%\\nTorrent Power Limited (T orrent group) CRISIL AA+ 2.65%\\nMahindra & Mahindra Fina ncial Services \\nLimitedCRISIL AAA 2%\\nPNB Housing Finance Limi ted ICRA AA 1.68%\\nTitan Company Limited CRISIL AAA 1.67%\\nSamvardhana Motherson In ternational \\nLimitedFITCH AAA 1.5%\\nGrasim Industries Limite d CRISIL AAA 1.5%\\n360 One Prime Limited CRISIL AA 1.42%\\nTata Capital Limited ICRA AAA 1.26%\\nHDB Financial Services L imited CRISIL AAA 1.08%\\nSummit Digitel Infrastru cture Limited \\n(BROOKFIELD GROUP)CRISIL AAA 0.84%\\nJamnagar Utilities & Pow er Private Limited \\n(Mukesh Ambani Group)CRISIL AAA 0.84%\\nSwarna Tollway Private L imited (MACQUARIE \\nGROUP)CRISIL AAA 0.72%\\nLarsen & Toubro Limited CRISIL AAA 0.59%\\nTata Capital Housing Fin ance Limited CRISIL AAA 0.57%\\nPower Grid Corporation o f India Limited CRISIL AAA 0.54%\\nKotak Mahindra Prime Lim ited CRISIL AAA 0.5%\\nThe Federal Bank Limited FITCH AA 0.45%\\nShriram Finance Limited CRISIL AA+ 0.42%\\nNTPC Limited CRISIL AAA 0.41%\\nBajaj Housing Finance Li mited CRISIL AAA 0.25%\\nNHPC Limited CARE AAA 0.05%\\nIndia Infradebt Limited (India Infradebt \\nLimited)CRISIL AAA 0.02%\\nGovernment Bond 23.95%\\nGovernment of India SOV 23.95%\\n*In case of semi annual YTM, it has been annualisedRisk factors : Trading  volumes  and settlement  periods  may  restrict  liquidity  in equity  and debt  investments . Investment  in Debt  is subject  to price,  credit,  \\nand interest  rate  risk. The NAV  of the Scheme  may  be affected,  inter  alia,  by changes  in the market  conditions,\\ninterest  rates,  trading  volumes,  settlement  periods  and transfer  procedures . The NAV  may  also  be subjected  \\nto risk associated  with  investment  in derivatives,  foreign  securities  or script  lending  as may  be permissible  by \\nthe Scheme  Information  Document .\\nDisclaimers : The information herein above is meant only for general reading purposes and the views being \\nexpressed only constitute opinions and therefore cannot be considered as guidelines, recommendations  or \\nas a professional guide for the readers. Before making any investments, the readers are advised to seek \\nindependent professional advice, verify the contents in order to arrive at an informed investment decision. \\nNone of the Sponsor, the Investment Manager, the Trustee, their respective directors, employees, associates or \\nrepresentatives shall be liable in any way for any direct, indirect, special, incidental, consequential, punitive or \\nexemplary damages, including on account of lost profits arising from the information contained in this \\nmaterial.\\nMutual Fund Investments are subject to market risks, read all scheme related documents carefully.State Government Securit ies SOV 7.81%\\nTreasury Bill 0.33%\\nGovernment of India SOV 0.33%\\nCorporate Debt Market Deve lopment Fund 0.26%\\nCorporate Debt Market Deve lopment Fund \\nClass A20.26%\\nPTC 2.17%\\nSansar Trust (PTC of poo ls from Shriram \\nTransport Finance Corporation)ICRA AAA(SO) 1.55%\\nFirst Business Receivabl es Trust (Mukesh \\nAmbani Group (PTC backed by receivables \\nfrom Reliance group entities))CRISIL \\nAAA(SO)/CRI SI\\nL AAA(SO)0.61%\\nCash & Other Receivables 5.68%\\nGrand Total 100%'"
            ]
          },
          "execution_count": 8,
          "metadata": {},
          "output_type": "execute_result"
        }
      ],
      "source": [
        "raw_text"
      ]
    },
    {
      "cell_type": "code",
      "execution_count": null,
      "metadata": {
        "id": "oGfsZdJWlad5"
      },
      "outputs": [],
      "source": [
        "text_splitter = CharacterTextSplitter(\n",
        "    separator = \"\\n\",\n",
        "    chunk_size = 800,\n",
        "    chunk_overlap  = 200,\n",
        "    length_function = len,\n",
        ")\n",
        "texts = text_splitter.split_text(raw_text)"
      ]
    },
    {
      "cell_type": "code",
      "execution_count": null,
      "metadata": {
        "colab": {
          "base_uri": "https://localhost:8080/"
        },
        "id": "pB_p8be7lhCu",
        "outputId": "156dfb18-b3b8-48ad-af7c-86d2c4bf322f"
      },
      "outputs": [
        {
          "data": {
            "text/plain": [
              "13"
            ]
          },
          "execution_count": 10,
          "metadata": {},
          "output_type": "execute_result"
        }
      ],
      "source": [
        "len(texts)"
      ]
    },
    {
      "cell_type": "code",
      "execution_count": null,
      "metadata": {
        "colab": {
          "base_uri": "https://localhost:8080/"
        },
        "id": "36bWLqrTmrVd",
        "outputId": "17d72f2c-0bf0-4dbe-c85e-c776a770b7c0"
      },
      "outputs": [
        {
          "name": "stderr",
          "output_type": "stream",
          "text": [
            "/usr/local/lib/python3.10/dist-packages/langchain_core/_api/deprecation.py:117: LangChainDeprecationWarning: The class `langchain_community.embeddings.openai.OpenAIEmbeddings` was deprecated in langchain-community 0.0.9 and will be removed in 0.2.0. An updated version of the class exists in the langchain-openai package and should be used instead. To use it run `pip install -U langchain-openai` and import as `from langchain_openai import OpenAIEmbeddings`.\n",
            "  warn_deprecated(\n"
          ]
        }
      ],
      "source": [
        "embeddings = OpenAIEmbeddings()"
      ]
    },
    {
      "cell_type": "code",
      "execution_count": null,
      "metadata": {
        "id": "4CGuMO4vm1LG"
      },
      "outputs": [],
      "source": [
        "doc_search = FAISS.from_texts(texts, embeddings)"
      ]
    },
    {
      "cell_type": "code",
      "execution_count": null,
      "metadata": {
        "colab": {
          "base_uri": "https://localhost:8080/"
        },
        "id": "eylS442vnE8C",
        "outputId": "eb3019b5-f05b-49fa-b523-d1d9ce67bf69"
      },
      "outputs": [
        {
          "data": {
            "text/plain": [
              "<langchain_community.vectorstores.faiss.FAISS at 0x7920d55d0550>"
            ]
          },
          "execution_count": 13,
          "metadata": {},
          "output_type": "execute_result"
        }
      ],
      "source": [
        "doc_search"
      ]
    },
    {
      "cell_type": "code",
      "execution_count": null,
      "metadata": {
        "id": "LybnMa9XnTSz"
      },
      "outputs": [],
      "source": [
        "from langchain.chains.question_answering import load_qa_chain\n",
        "from langchain.llms import OpenAI"
      ]
    },
    {
      "cell_type": "code",
      "execution_count": null,
      "metadata": {
        "colab": {
          "base_uri": "https://localhost:8080/"
        },
        "id": "KCl328N_nWFq",
        "outputId": "df7f3bee-610a-476b-e44b-8a2f6db0fdfe"
      },
      "outputs": [
        {
          "name": "stderr",
          "output_type": "stream",
          "text": [
            "/usr/local/lib/python3.10/dist-packages/langchain_core/_api/deprecation.py:117: LangChainDeprecationWarning: The class `langchain_community.llms.openai.OpenAI` was deprecated in langchain-community 0.0.10 and will be removed in 0.2.0. An updated version of the class exists in the langchain-openai package and should be used instead. To use it run `pip install -U langchain-openai` and import as `from langchain_openai import OpenAI`.\n",
            "  warn_deprecated(\n"
          ]
        }
      ],
      "source": [
        "chain = load_qa_chain(OpenAI(), chain_type=\"stuff\")"
      ]
    },
    {
      "cell_type": "code",
      "execution_count": null,
      "metadata": {
        "colab": {
          "base_uri": "https://localhost:8080/",
          "height": 35
        },
        "id": "7GZds7QenZA4",
        "outputId": "946c680c-969b-4571-9836-ca85299b3c2f"
      },
      "outputs": [
        {
          "data": {
            "application/vnd.google.colaboratory.intrinsic+json": {
              "type": "string"
            },
            "text/plain": [
              "' Rs. 5,967.53 Crs'"
            ]
          },
          "execution_count": 24,
          "metadata": {},
          "output_type": "execute_result"
        }
      ],
      "source": [
        "query = \"\" # Ask question\n",
        "docs = doc_search.similarity_search(query)\n",
        "chain.run(input_documents=docs, question=query)"
      ]
    }
  ],
  "metadata": {
    "colab": {
      "provenance": []
    },
    "kernelspec": {
      "display_name": "Python 3",
      "name": "python3"
    },
    "language_info": {
      "name": "python"
    }
  },
  "nbformat": 4,
  "nbformat_minor": 0
}
